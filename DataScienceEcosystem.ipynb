{
 "cells": [
  {
   "cell_type": "markdown",
   "id": "b15f999a-937a-4b9b-842b-e25ec1488c3e",
   "metadata": {},
   "source": [
    "# Outils et écosystème de la science des données"
   ]
  },
  {
   "cell_type": "markdown",
   "id": "e9b1517f-a8d0-4c04-b6a6-72bfec043617",
   "metadata": {},
   "source": [
    "Dans ce notebook, les outils et l'écosystème de la science des données sont résumés."
   ]
  },
  {
   "cell_type": "markdown",
   "id": "707d0e5a-733c-4abd-98ed-e9c297233757",
   "metadata": {},
   "source": [
    "Certains des langages populaires que les scientifiques des données utilisent sont :\n",
    "1. Python\n",
    "2. R\n",
    "3. SQL\n"
   ]
  },
  {
   "cell_type": "markdown",
   "id": "0bce8fdc-4a68-4b61-9378-d1c7a9764828",
   "metadata": {},
   "source": [
    "Certaines des bibliothèques couramment utilisées par les scientifiques des données incluent :\n",
    "1. Pandas\n",
    "2. NumPy\n",
    "3. Matplotlib\n"
   ]
  },
  {
   "cell_type": "markdown",
   "id": "4e4e60fc-ac50-45ce-b1e0-43125daba34a",
   "metadata": {},
   "source": [
    "| Outils de la science des données |\n",
    "|----------------------------------|\n",
    "| Jupyter Notebook                  |\n",
    "| RStudio                           |\n",
    "| VS Code                           |\n"
   ]
  },
  {
   "cell_type": "markdown",
   "id": "2ee23304-b2f7-4c6c-9e84-24f83c14f602",
   "metadata": {},
   "source": [
    "### Voici quelques exemples d'évaluation d'expressions arithmétiques en Python."
   ]
  },
  {
   "cell_type": "code",
   "execution_count": 2,
   "id": "32efaf5f-e12e-4b31-87b5-3150aee5cc00",
   "metadata": {},
   "outputs": [
    {
     "data": {
      "text/plain": [
       "17"
      ]
     },
     "execution_count": 2,
     "metadata": {},
     "output_type": "execute_result"
    }
   ],
   "source": [
    "# Ceci est une simple expression arithmétique pour multiplier puis additionner des entiers\n",
    "(3*4)+5\n"
   ]
  },
  {
   "cell_type": "code",
   "execution_count": 3,
   "id": "0fc84256-808b-4084-b94b-18f19aa2e370",
   "metadata": {},
   "outputs": [
    {
     "data": {
      "text/plain": [
       "3.3333333333333335"
      ]
     },
     "execution_count": 3,
     "metadata": {},
     "output_type": "execute_result"
    }
   ],
   "source": [
    "# Cela convertira 200 minutes en heures en divisant par 60\n",
    "200/60\n"
   ]
  },
  {
   "cell_type": "markdown",
   "id": "7617561d-09e1-4f12-ae9f-d79433ceac3b",
   "metadata": {},
   "source": [
    "**Objectifs :**\n",
    "- Lister les langages populaires pour la science des données\n",
    "- Lister les bibliothèques courantes\n",
    "- Créer des expressions arithmétiques simples\n",
    "- Présenter des outils de développement pour la science des données\n"
   ]
  },
  {
   "cell_type": "markdown",
   "id": "4aaf058a-81e2-40c4-a816-b6d168142d68",
   "metadata": {},
   "source": [
    "## Auteur\n",
    "Edgard Agossa"
   ]
  },
  {
   "cell_type": "code",
   "execution_count": null,
   "id": "ae02cacc-8001-4f8e-9203-a9022ce78401",
   "metadata": {},
   "outputs": [],
   "source": []
  }
 ],
 "metadata": {
  "kernelspec": {
   "display_name": "Python 3 (ipykernel)",
   "language": "python",
   "name": "python3"
  },
  "language_info": {
   "codemirror_mode": {
    "name": "ipython",
    "version": 3
   },
   "file_extension": ".py",
   "mimetype": "text/x-python",
   "name": "python",
   "nbconvert_exporter": "python",
   "pygments_lexer": "ipython3",
   "version": "3.12.8"
  }
 },
 "nbformat": 4,
 "nbformat_minor": 5
}
